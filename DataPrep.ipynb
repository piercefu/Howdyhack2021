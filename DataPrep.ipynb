{
 "cells": [
  {
   "cell_type": "code",
   "execution_count": 19,
   "metadata": {},
   "outputs": [],
   "source": [
    "import os\n",
    "import numpy as np\n",
    "import pandas as pd\n",
    "import csv\n",
    "\n",
    "import seaborn as sns\n",
    "import plotly.express as px \n",
    "import matplotlib.pyplot as plt\n",
    "%matplotlib inline\n",
    "\n",
    "from sklearn.cluster import KMeans\n",
    "from sklearn.preprocessing import StandardScaler\n",
    "from sklearn.pipeline import Pipeline\n",
    "from sklearn.manifold import TSNE\n",
    "from sklearn.decomposition import PCA\n",
    "from sklearn.metrics import euclidean_distances\n",
    "from scipy.spatial.distance import cdist\n",
    "\n",
    "import warnings\n",
    "warnings.filterwarnings(\"ignore\")"
   ]
  },
  {
   "cell_type": "code",
   "execution_count": 33,
   "metadata": {},
   "outputs": [
    {
     "name": "stdout",
     "output_type": "stream",
     "text": [
      "American Kids\n"
     ]
    }
   ],
   "source": [
    "genre_key = [\"Acoustic/Folk\",\"Alt_Music\",\"Blues\",\"Bollywood\",\"Country\",\"HipHop\",\"Indie Alt\",\"Instrumental\",\n",
    "             \"Metal\",\"Pop\",\"Rock\"]\n",
    "\n",
    "track_dict = []\n",
    "\n",
    "with open(\"train.csv\", 'r', newline='') as f, open('datasetFinal.csv','w', newline='') as writer:\n",
    "    sheet_reader = csv.reader(f, delimiter=\",\")\n",
    "    sheet_writer = csv.writer(writer, delimiter=\",\")\n",
    "    sheet_writer.writerow(['Artist Name', 'Track Name', 'Popularity', 'danceability', 'energy', 'key','loudness', 'mode', 'speechiness', 'acousticness', 'instrumentalness',\n",
    "       'liveness', 'valence', 'tempo', 'duration_in min/ms', 'time_signature', 'Class', 'index'])\n",
    "    next(sheet_reader)\n",
    "    l = 0\n",
    "    for line in sheet_reader:\n",
    "        listobj = []\n",
    "        listobj.append(line[0])\n",
    "        track = line[1]\n",
    "        if 'Ä' in track or 'ô' in track or '–' in track or 'ú' in track or 'æ' in track or '≥' in track or '√' in track or '¥' in track:\n",
    "            continue\n",
    "        if '(' in track:\n",
    "            a = track.index('(')\n",
    "            if ')' in track:\n",
    "                b = track.index(')')\n",
    "            else:\n",
    "                track = track[:a]\n",
    "            if b == len(track)-1:\n",
    "                track = track[:a]\n",
    "            else:\n",
    "                track = track[:a]+track[b+2:]\n",
    "        if '[' in track:\n",
    "            a = track.index('[')\n",
    "            if ']' in track:\n",
    "                b = track.index(']')\n",
    "            else:\n",
    "                track = track[:a]\n",
    "            if b == len(track)-1:\n",
    "                track = track[:a]\n",
    "            else:\n",
    "                track = track[:a]+track[b+2:]\n",
    "        if '-' in track:\n",
    "            a = track.index('-')\n",
    "            if track[:a-1] in track_dict:\n",
    "                continue\n",
    "            listobj.append(track[:a-1])\n",
    "            track_dict.append(track[:a-1])\n",
    "        else:\n",
    "            if track in track_dict:\n",
    "                continue\n",
    "            listobj.append(track)\n",
    "            track_dict.append(track)\n",
    "        for i in range(2,16):\n",
    "            listobj.append(line[i])\n",
    "        listobj.append(genre_key[int(line[16])])\n",
    "        listobj.append(l)\n",
    "        l += 1\n",
    "        sheet_writer.writerow(listobj)"
   ]
  },
  {
   "cell_type": "code",
   "execution_count": null,
   "metadata": {},
   "outputs": [],
   "source": []
  }
 ],
 "metadata": {
  "kernelspec": {
   "display_name": "Python 3",
   "language": "python",
   "name": "python3"
  },
  "language_info": {
   "codemirror_mode": {
    "name": "ipython",
    "version": 3
   },
   "file_extension": ".py",
   "mimetype": "text/x-python",
   "name": "python",
   "nbconvert_exporter": "python",
   "pygments_lexer": "ipython3",
   "version": "3.8.3"
  }
 },
 "nbformat": 4,
 "nbformat_minor": 4
}
